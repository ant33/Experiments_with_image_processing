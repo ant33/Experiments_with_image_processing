{
 "cells": [
  {
   "cell_type": "code",
   "execution_count": 1,
   "metadata": {},
   "outputs": [],
   "source": [
    "from DiffOperators import div2D, grad, euclidian_norm2D, heat_equation\n",
    "from EdgeDetectors import MarrHildreth\n",
    "from Blurring import PeronaMalik\n",
    "import numpy as np"
   ]
  },
  {
   "cell_type": "code",
   "execution_count": 2,
   "metadata": {},
   "outputs": [],
   "source": [
    "import matplotlib.image as img\n",
    "import matplotlib.pyplot as plt\n",
    "image = img.imread('cameramen.png')\n",
    "image_noisy = image+ np.sin(np.random.rand(image.shape[0],image.shape[1]))/3"
   ]
  },
  {
   "cell_type": "code",
   "execution_count": 3,
   "metadata": {},
   "outputs": [
    {
     "ename": "NameError",
     "evalue": "name 'div2D' is not defined",
     "output_type": "error",
     "traceback": [
      "\u001b[1;31m---------------------------------------------------------------------------\u001b[0m",
      "\u001b[1;31mNameError\u001b[0m                                 Traceback (most recent call last)",
      "\u001b[1;32m<ipython-input-3-1941de7a5f7f>\u001b[0m in \u001b[0;36m<module>\u001b[1;34m\u001b[0m\n\u001b[1;32m----> 1\u001b[1;33m \u001b[0mblurred_image\u001b[0m \u001b[1;33m=\u001b[0m \u001b[0mPeronaMalik\u001b[0m\u001b[1;33m(\u001b[0m\u001b[0mimage_noisy\u001b[0m\u001b[1;33m,\u001b[0m \u001b[1;36m1\u001b[0m\u001b[1;33m/\u001b[0m\u001b[1;36m8\u001b[0m\u001b[1;33m,\u001b[0m \u001b[1;36m75\u001b[0m\u001b[1;33m,\u001b[0m \u001b[1;36m0.51\u001b[0m\u001b[1;33m)\u001b[0m\u001b[1;33m\u001b[0m\u001b[1;33m\u001b[0m\u001b[0m\n\u001b[0m\u001b[0;32m      2\u001b[0m \u001b[0mgauss_image\u001b[0m \u001b[1;33m=\u001b[0m \u001b[0mheat_equation\u001b[0m\u001b[1;33m(\u001b[0m\u001b[0mimage_noisy\u001b[0m\u001b[1;33m,\u001b[0m \u001b[1;36m1\u001b[0m\u001b[1;33m/\u001b[0m\u001b[1;36m8\u001b[0m\u001b[1;33m,\u001b[0m \u001b[1;36m75\u001b[0m\u001b[1;33m)\u001b[0m\u001b[1;33m\u001b[0m\u001b[1;33m\u001b[0m\u001b[0m\n\u001b[0;32m      3\u001b[0m \u001b[0medge_pm\u001b[0m \u001b[1;33m=\u001b[0m \u001b[0mMarrHildreth\u001b[0m\u001b[1;33m(\u001b[0m\u001b[0mblurred_image\u001b[0m\u001b[1;33m,\u001b[0m \u001b[1;36m0.02\u001b[0m\u001b[1;33m)\u001b[0m\u001b[1;33m\u001b[0m\u001b[1;33m\u001b[0m\u001b[0m\n\u001b[0;32m      4\u001b[0m \u001b[0medge_gauss\u001b[0m \u001b[1;33m=\u001b[0m \u001b[0mMarrHildreth\u001b[0m\u001b[1;33m(\u001b[0m\u001b[0mgauss_image\u001b[0m\u001b[1;33m,\u001b[0m \u001b[1;36m0.02\u001b[0m\u001b[1;33m)\u001b[0m\u001b[1;33m\u001b[0m\u001b[1;33m\u001b[0m\u001b[0m\n\u001b[0;32m      5\u001b[0m \u001b[0mplt\u001b[0m\u001b[1;33m.\u001b[0m\u001b[0mfigure\u001b[0m\u001b[1;33m(\u001b[0m\u001b[0mfigsize\u001b[0m\u001b[1;33m=\u001b[0m\u001b[1;33m(\u001b[0m\u001b[1;36m8\u001b[0m\u001b[1;33m,\u001b[0m\u001b[1;36m8\u001b[0m\u001b[1;33m)\u001b[0m\u001b[1;33m)\u001b[0m\u001b[1;33m\u001b[0m\u001b[1;33m\u001b[0m\u001b[0m\n",
      "\u001b[1;32mD:\\WORK\\2019\\Image_processing\\Aujol_practice_N1\\Blurring.py\u001b[0m in \u001b[0;36mPeronaMalik\u001b[1;34m(f, delta_t, K, alpha)\u001b[0m\n\u001b[0;32m     31\u001b[0m     \u001b[0mf_in\u001b[0m \u001b[1;33m=\u001b[0m \u001b[0mf\u001b[0m\u001b[1;33m.\u001b[0m\u001b[0mcopy\u001b[0m\u001b[1;33m(\u001b[0m\u001b[1;33m)\u001b[0m\u001b[1;33m\u001b[0m\u001b[1;33m\u001b[0m\u001b[0m\n\u001b[0;32m     32\u001b[0m     \u001b[1;32mfor\u001b[0m \u001b[0mk\u001b[0m \u001b[1;32min\u001b[0m \u001b[0mrange\u001b[0m\u001b[1;33m(\u001b[0m\u001b[0mK\u001b[0m\u001b[1;33m)\u001b[0m\u001b[1;33m:\u001b[0m\u001b[1;33m\u001b[0m\u001b[1;33m\u001b[0m\u001b[0m\n\u001b[1;32m---> 33\u001b[1;33m         \u001b[0mdiverg\u001b[0m \u001b[1;33m=\u001b[0m \u001b[0mdiv2D\u001b[0m\u001b[1;33m(\u001b[0m\u001b[0mgrad\u001b[0m\u001b[1;33m(\u001b[0m\u001b[0mf_in\u001b[0m\u001b[1;33m)\u001b[0m \u001b[1;33m*\u001b[0m \u001b[0mkernel_pm\u001b[0m\u001b[1;33m(\u001b[0m\u001b[0mf_in\u001b[0m\u001b[1;33m,\u001b[0m \u001b[0malpha\u001b[0m\u001b[1;33m)\u001b[0m\u001b[1;33m**\u001b[0m\u001b[1;36m2\u001b[0m\u001b[1;33m)\u001b[0m\u001b[1;33m\u001b[0m\u001b[1;33m\u001b[0m\u001b[0m\n\u001b[0m\u001b[0;32m     34\u001b[0m         \u001b[0mf_in\u001b[0m \u001b[1;33m=\u001b[0m \u001b[0mf_in\u001b[0m \u001b[1;33m+\u001b[0m \u001b[0mdelta_t\u001b[0m \u001b[1;33m*\u001b[0m \u001b[0mdiverg\u001b[0m\u001b[1;33m\u001b[0m\u001b[1;33m\u001b[0m\u001b[0m\n\u001b[0;32m     35\u001b[0m \u001b[1;33m\u001b[0m\u001b[0m\n",
      "\u001b[1;31mNameError\u001b[0m: name 'div2D' is not defined"
     ]
    }
   ],
   "source": [
    "\n",
    "blurred_image = PeronaMalik(image_noisy, 1/8, 75, 0.51)\n",
    "gauss_image = heat_equation(image_noisy, 1/8, 75)\n",
    "edge_pm = MarrHildreth(blurred_image, 0.02)\n",
    "edge_gauss = MarrHildreth(gauss_image, 0.02)\n",
    "plt.figure(figsize=(8,8))\n",
    "fs = 10\n",
    "f, axarr = plt.subplots(2,2,figsize=(8,8))\n",
    "axarr[1, 0].imshow(edge_pm, cmap=plt.get_cmap('gray'), vmin=0, vmax=1)\n",
    "axarr[1, 0].set_title('Marr-Hildreth for Perona-Malika', fontsize=fs)\n",
    "axarr[0, 0].imshow(blurred_image, cmap=plt.get_cmap('gray'), vmin=0, vmax=1)\n",
    "axarr[0, 0].set_title('Perona-Malik', fontsize=fs)\n",
    "axarr[0, 1].imshow(gauss_image, cmap=plt.get_cmap('gray'), vmin=0, vmax=1)\n",
    "axarr[0, 1].set_title('Gauss', fontsize=fs)\n",
    "axarr[1, 1].imshow(edge_gauss, cmap=plt.get_cmap('gray'), vmin=0, vmax=1)\n",
    "axarr[1, 1].set_title('Marr-Hildreth for Gauss', fontsize=fs)\n",
    "plt.show()"
   ]
  },
  {
   "cell_type": "code",
   "execution_count": null,
   "metadata": {},
   "outputs": [],
   "source": [
    "blurred_image = PeronaMalik(image_noisy, 1/8, 300, 0.51)\n",
    "gauss_image = heat_equation(image_noisy, 1/8, 300)\n",
    "edge_pm = MarrHildreth(blurred_image, 0.02)\n",
    "edge_gauss = MarrHildreth(gauss_image, 0.02)\n",
    "plt.figure(figsize=(8,8))\n",
    "fs = 10\n",
    "f, axarr = plt.subplots(2,2,figsize=(8,8))\n",
    "axarr[1, 0].imshow(edge_pm, cmap=plt.get_cmap('gray'), vmin=0, vmax=1)\n",
    "axarr[1, 0].set_title('Marr-Hildreth for Perona-Malika', fontsize=fs)\n",
    "axarr[0, 0].imshow(blurred_image, cmap=plt.get_cmap('gray'), vmin=0, vmax=1)\n",
    "axarr[0, 0].set_title('Perona-Malik', fontsize=fs)\n",
    "axarr[0, 1].imshow(gauss_image, cmap=plt.get_cmap('gray'), vmin=0, vmax=1)\n",
    "axarr[0, 1].set_title('Gauss', fontsize=fs)\n",
    "axarr[1, 1].imshow(edge_gauss, cmap=plt.get_cmap('gray'), vmin=0, vmax=1)\n",
    "axarr[1, 1].set_title('Marr-Hildreth for Gauss', fontsize=fs)\n",
    "plt.show()"
   ]
  },
  {
   "cell_type": "code",
   "execution_count": null,
   "metadata": {},
   "outputs": [],
   "source": []
  },
  {
   "cell_type": "code",
   "execution_count": null,
   "metadata": {},
   "outputs": [],
   "source": []
  },
  {
   "cell_type": "code",
   "execution_count": null,
   "metadata": {},
   "outputs": [],
   "source": []
  },
  {
   "cell_type": "code",
   "execution_count": null,
   "metadata": {},
   "outputs": [],
   "source": []
  },
  {
   "cell_type": "code",
   "execution_count": null,
   "metadata": {},
   "outputs": [],
   "source": []
  },
  {
   "cell_type": "code",
   "execution_count": null,
   "metadata": {},
   "outputs": [],
   "source": [
    "\n",
    "\n"
   ]
  }
 ],
 "metadata": {
  "kernelspec": {
   "display_name": "Python 3",
   "language": "python",
   "name": "python3"
  },
  "language_info": {
   "codemirror_mode": {
    "name": "ipython",
    "version": 3
   },
   "file_extension": ".py",
   "mimetype": "text/x-python",
   "name": "python",
   "nbconvert_exporter": "python",
   "pygments_lexer": "ipython3",
   "version": "3.7.3"
  }
 },
 "nbformat": 4,
 "nbformat_minor": 2
}
